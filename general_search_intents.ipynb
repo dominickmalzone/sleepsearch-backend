{
  "cells": [
    {
      "cell_type": "markdown",
      "metadata": {
        "colab_type": "text",
        "id": "view-in-github"
      },
      "source": [
        "<a href=\"https://colab.research.google.com/github/dominickmalzone/sleepsearch-backend/blob/main/general_search_intents.ipynb\" target=\"_parent\"><img src=\"https://colab.research.google.com/assets/colab-badge.svg\" alt=\"Open In Colab\"/></a>"
      ]
    },
    {
      "cell_type": "code",
      "execution_count": null,
      "metadata": {
        "id": "Gt3Eu-v267Gw"
      },
      "outputs": [],
      "source": [
        "import re \n",
        "import numpy as np\n",
        "import pandas as pd\n",
        "import matplotlib.pyplot as plt\n",
        "import seaborn as sns ; sns.set()"
      ]
    },
    {
      "cell_type": "code",
      "execution_count": null,
      "metadata": {
        "id": "ONYkDOVVEbqK"
      },
      "outputs": [],
      "source": [
        "from sklearn.feature_extraction.text import TfidfVectorizer\n",
        "from sklearn.naive_bayes import MultinomialNB\n",
        "from sklearn.pipeline import Pipeline\n"
      ]
    },
    {
      "cell_type": "code",
      "execution_count": null,
      "metadata": {
        "id": "i9zm2EL9MlHl"
      },
      "outputs": [],
      "source": [
        "import json\n",
        "with open('general_intents.json') as file:\n",
        "  data = json.load(file)"
      ]
    },
    {
      "cell_type": "code",
      "execution_count": null,
      "metadata": {
        "colab": {
          "base_uri": "https://localhost:8080/",
          "height": 424
        },
        "id": "KxaHCbr-MvyY",
        "outputId": "ed16f2ba-3502-4f3d-f0b7-af6d3efbd06e"
      },
      "outputs": [
        {
          "data": {
            "text/html": [
              "\n",
              "  <div id=\"df-2673587a-927d-4836-a2b0-4585e7d795f5\">\n",
              "    <div class=\"colab-df-container\">\n",
              "      <div>\n",
              "<style scoped>\n",
              "    .dataframe tbody tr th:only-of-type {\n",
              "        vertical-align: middle;\n",
              "    }\n",
              "\n",
              "    .dataframe tbody tr th {\n",
              "        vertical-align: top;\n",
              "    }\n",
              "\n",
              "    .dataframe thead th {\n",
              "        text-align: right;\n",
              "    }\n",
              "</style>\n",
              "<table border=\"1\" class=\"dataframe\">\n",
              "  <thead>\n",
              "    <tr style=\"text-align: right;\">\n",
              "      <th></th>\n",
              "      <th>tag</th>\n",
              "      <th>pattern</th>\n",
              "    </tr>\n",
              "  </thead>\n",
              "  <tbody>\n",
              "    <tr>\n",
              "      <th>0</th>\n",
              "      <td>minecraft</td>\n",
              "      <td>minecraft</td>\n",
              "    </tr>\n",
              "    <tr>\n",
              "      <th>1</th>\n",
              "      <td>minecraft</td>\n",
              "      <td>mcpe</td>\n",
              "    </tr>\n",
              "    <tr>\n",
              "      <th>2</th>\n",
              "      <td>minecraft</td>\n",
              "      <td>minecraft game</td>\n",
              "    </tr>\n",
              "    <tr>\n",
              "      <th>3</th>\n",
              "      <td>minecraft</td>\n",
              "      <td>mojang minecraft</td>\n",
              "    </tr>\n",
              "    <tr>\n",
              "      <th>4</th>\n",
              "      <td>covid19_summary</td>\n",
              "      <td>covid19</td>\n",
              "    </tr>\n",
              "    <tr>\n",
              "      <th>...</th>\n",
              "      <td>...</td>\n",
              "      <td>...</td>\n",
              "    </tr>\n",
              "    <tr>\n",
              "      <th>391</th>\n",
              "      <td>uber</td>\n",
              "      <td>uber cars</td>\n",
              "    </tr>\n",
              "    <tr>\n",
              "      <th>392</th>\n",
              "      <td>lyft</td>\n",
              "      <td>lyft</td>\n",
              "    </tr>\n",
              "    <tr>\n",
              "      <th>393</th>\n",
              "      <td>lyft</td>\n",
              "      <td>lyft jobs</td>\n",
              "    </tr>\n",
              "    <tr>\n",
              "      <th>394</th>\n",
              "      <td>lyft</td>\n",
              "      <td>lyft price</td>\n",
              "    </tr>\n",
              "    <tr>\n",
              "      <th>395</th>\n",
              "      <td>lyft</td>\n",
              "      <td>lyft cars</td>\n",
              "    </tr>\n",
              "  </tbody>\n",
              "</table>\n",
              "<p>396 rows × 2 columns</p>\n",
              "</div>\n",
              "      <button class=\"colab-df-convert\" onclick=\"convertToInteractive('df-2673587a-927d-4836-a2b0-4585e7d795f5')\"\n",
              "              title=\"Convert this dataframe to an interactive table.\"\n",
              "              style=\"display:none;\">\n",
              "        \n",
              "  <svg xmlns=\"http://www.w3.org/2000/svg\" height=\"24px\"viewBox=\"0 0 24 24\"\n",
              "       width=\"24px\">\n",
              "    <path d=\"M0 0h24v24H0V0z\" fill=\"none\"/>\n",
              "    <path d=\"M18.56 5.44l.94 2.06.94-2.06 2.06-.94-2.06-.94-.94-2.06-.94 2.06-2.06.94zm-11 1L8.5 8.5l.94-2.06 2.06-.94-2.06-.94L8.5 2.5l-.94 2.06-2.06.94zm10 10l.94 2.06.94-2.06 2.06-.94-2.06-.94-.94-2.06-.94 2.06-2.06.94z\"/><path d=\"M17.41 7.96l-1.37-1.37c-.4-.4-.92-.59-1.43-.59-.52 0-1.04.2-1.43.59L10.3 9.45l-7.72 7.72c-.78.78-.78 2.05 0 2.83L4 21.41c.39.39.9.59 1.41.59.51 0 1.02-.2 1.41-.59l7.78-7.78 2.81-2.81c.8-.78.8-2.07 0-2.86zM5.41 20L4 18.59l7.72-7.72 1.47 1.35L5.41 20z\"/>\n",
              "  </svg>\n",
              "      </button>\n",
              "      \n",
              "  <style>\n",
              "    .colab-df-container {\n",
              "      display:flex;\n",
              "      flex-wrap:wrap;\n",
              "      gap: 12px;\n",
              "    }\n",
              "\n",
              "    .colab-df-convert {\n",
              "      background-color: #E8F0FE;\n",
              "      border: none;\n",
              "      border-radius: 50%;\n",
              "      cursor: pointer;\n",
              "      display: none;\n",
              "      fill: #1967D2;\n",
              "      height: 32px;\n",
              "      padding: 0 0 0 0;\n",
              "      width: 32px;\n",
              "    }\n",
              "\n",
              "    .colab-df-convert:hover {\n",
              "      background-color: #E2EBFA;\n",
              "      box-shadow: 0px 1px 2px rgba(60, 64, 67, 0.3), 0px 1px 3px 1px rgba(60, 64, 67, 0.15);\n",
              "      fill: #174EA6;\n",
              "    }\n",
              "\n",
              "    [theme=dark] .colab-df-convert {\n",
              "      background-color: #3B4455;\n",
              "      fill: #D2E3FC;\n",
              "    }\n",
              "\n",
              "    [theme=dark] .colab-df-convert:hover {\n",
              "      background-color: #434B5C;\n",
              "      box-shadow: 0px 1px 3px 1px rgba(0, 0, 0, 0.15);\n",
              "      filter: drop-shadow(0px 1px 2px rgba(0, 0, 0, 0.3));\n",
              "      fill: #FFFFFF;\n",
              "    }\n",
              "  </style>\n",
              "\n",
              "      <script>\n",
              "        const buttonEl =\n",
              "          document.querySelector('#df-2673587a-927d-4836-a2b0-4585e7d795f5 button.colab-df-convert');\n",
              "        buttonEl.style.display =\n",
              "          google.colab.kernel.accessAllowed ? 'block' : 'none';\n",
              "\n",
              "        async function convertToInteractive(key) {\n",
              "          const element = document.querySelector('#df-2673587a-927d-4836-a2b0-4585e7d795f5');\n",
              "          const dataTable =\n",
              "            await google.colab.kernel.invokeFunction('convertToInteractive',\n",
              "                                                     [key], {});\n",
              "          if (!dataTable) return;\n",
              "\n",
              "          const docLinkHtml = 'Like what you see? Visit the ' +\n",
              "            '<a target=\"_blank\" href=https://colab.research.google.com/notebooks/data_table.ipynb>data table notebook</a>'\n",
              "            + ' to learn more about interactive tables.';\n",
              "          element.innerHTML = '';\n",
              "          dataTable['output_type'] = 'display_data';\n",
              "          await google.colab.output.renderOutput(dataTable, element);\n",
              "          const docLink = document.createElement('div');\n",
              "          docLink.innerHTML = docLinkHtml;\n",
              "          element.appendChild(docLink);\n",
              "        }\n",
              "      </script>\n",
              "    </div>\n",
              "  </div>\n",
              "  "
            ],
            "text/plain": [
              "                 tag           pattern\n",
              "0          minecraft         minecraft\n",
              "1          minecraft              mcpe\n",
              "2          minecraft    minecraft game\n",
              "3          minecraft  mojang minecraft\n",
              "4    covid19_summary           covid19\n",
              "..               ...               ...\n",
              "391             uber         uber cars\n",
              "392             lyft              lyft\n",
              "393             lyft         lyft jobs\n",
              "394             lyft        lyft price\n",
              "395             lyft         lyft cars\n",
              "\n",
              "[396 rows x 2 columns]"
            ]
          },
          "execution_count": 7,
          "metadata": {},
          "output_type": "execute_result"
        }
      ],
      "source": [
        "df = {'tag' : [], 'pattern' : []}\n",
        "\n",
        "for intent in data['intents'] :\n",
        "  tag = intent['tag']\n",
        "  for pattern in intent['patterns'] :\n",
        "    df['tag'].append(tag)\n",
        "    df['pattern'].append(pattern)\n",
        "\n",
        "df = pd.DataFrame(df)\n",
        "df"
      ]
    },
    {
      "cell_type": "code",
      "execution_count": null,
      "metadata": {
        "colab": {
          "base_uri": "https://localhost:8080/",
          "height": 424
        },
        "id": "o_dvVa2OURgs",
        "outputId": "dafa93ee-e24c-4895-fbd7-39c0b6bf64d7"
      },
      "outputs": [
        {
          "data": {
            "text/html": [
              "\n",
              "  <div id=\"df-d0d08ac1-4638-4579-9382-b2c714eda0b3\">\n",
              "    <div class=\"colab-df-container\">\n",
              "      <div>\n",
              "<style scoped>\n",
              "    .dataframe tbody tr th:only-of-type {\n",
              "        vertical-align: middle;\n",
              "    }\n",
              "\n",
              "    .dataframe tbody tr th {\n",
              "        vertical-align: top;\n",
              "    }\n",
              "\n",
              "    .dataframe thead th {\n",
              "        text-align: right;\n",
              "    }\n",
              "</style>\n",
              "<table border=\"1\" class=\"dataframe\">\n",
              "  <thead>\n",
              "    <tr style=\"text-align: right;\">\n",
              "      <th></th>\n",
              "      <th>tag</th>\n",
              "      <th>pattern</th>\n",
              "    </tr>\n",
              "  </thead>\n",
              "  <tbody>\n",
              "    <tr>\n",
              "      <th>12</th>\n",
              "      <td>hackathon</td>\n",
              "      <td>hackathon competition</td>\n",
              "    </tr>\n",
              "    <tr>\n",
              "      <th>300</th>\n",
              "      <td>linkedin</td>\n",
              "      <td>linkedin trends</td>\n",
              "    </tr>\n",
              "    <tr>\n",
              "      <th>198</th>\n",
              "      <td>javascript</td>\n",
              "      <td>javascript</td>\n",
              "    </tr>\n",
              "    <tr>\n",
              "      <th>376</th>\n",
              "      <td>apple tv</td>\n",
              "      <td>apple tv</td>\n",
              "    </tr>\n",
              "    <tr>\n",
              "      <th>289</th>\n",
              "      <td>twitter</td>\n",
              "      <td>twitter</td>\n",
              "    </tr>\n",
              "    <tr>\n",
              "      <th>...</th>\n",
              "      <td>...</td>\n",
              "      <td>...</td>\n",
              "    </tr>\n",
              "    <tr>\n",
              "      <th>361</th>\n",
              "      <td>spotify</td>\n",
              "      <td>spotify jobs</td>\n",
              "    </tr>\n",
              "    <tr>\n",
              "      <th>344</th>\n",
              "      <td>rich people</td>\n",
              "      <td>rich people</td>\n",
              "    </tr>\n",
              "    <tr>\n",
              "      <th>340</th>\n",
              "      <td>tesla</td>\n",
              "      <td>tesla</td>\n",
              "    </tr>\n",
              "    <tr>\n",
              "      <th>69</th>\n",
              "      <td>sleep apnea</td>\n",
              "      <td>sleep apnea treatment</td>\n",
              "    </tr>\n",
              "    <tr>\n",
              "      <th>161</th>\n",
              "      <td>microsoft office</td>\n",
              "      <td>microsoft office products</td>\n",
              "    </tr>\n",
              "  </tbody>\n",
              "</table>\n",
              "<p>396 rows × 2 columns</p>\n",
              "</div>\n",
              "      <button class=\"colab-df-convert\" onclick=\"convertToInteractive('df-d0d08ac1-4638-4579-9382-b2c714eda0b3')\"\n",
              "              title=\"Convert this dataframe to an interactive table.\"\n",
              "              style=\"display:none;\">\n",
              "        \n",
              "  <svg xmlns=\"http://www.w3.org/2000/svg\" height=\"24px\"viewBox=\"0 0 24 24\"\n",
              "       width=\"24px\">\n",
              "    <path d=\"M0 0h24v24H0V0z\" fill=\"none\"/>\n",
              "    <path d=\"M18.56 5.44l.94 2.06.94-2.06 2.06-.94-2.06-.94-.94-2.06-.94 2.06-2.06.94zm-11 1L8.5 8.5l.94-2.06 2.06-.94-2.06-.94L8.5 2.5l-.94 2.06-2.06.94zm10 10l.94 2.06.94-2.06 2.06-.94-2.06-.94-.94-2.06-.94 2.06-2.06.94z\"/><path d=\"M17.41 7.96l-1.37-1.37c-.4-.4-.92-.59-1.43-.59-.52 0-1.04.2-1.43.59L10.3 9.45l-7.72 7.72c-.78.78-.78 2.05 0 2.83L4 21.41c.39.39.9.59 1.41.59.51 0 1.02-.2 1.41-.59l7.78-7.78 2.81-2.81c.8-.78.8-2.07 0-2.86zM5.41 20L4 18.59l7.72-7.72 1.47 1.35L5.41 20z\"/>\n",
              "  </svg>\n",
              "      </button>\n",
              "      \n",
              "  <style>\n",
              "    .colab-df-container {\n",
              "      display:flex;\n",
              "      flex-wrap:wrap;\n",
              "      gap: 12px;\n",
              "    }\n",
              "\n",
              "    .colab-df-convert {\n",
              "      background-color: #E8F0FE;\n",
              "      border: none;\n",
              "      border-radius: 50%;\n",
              "      cursor: pointer;\n",
              "      display: none;\n",
              "      fill: #1967D2;\n",
              "      height: 32px;\n",
              "      padding: 0 0 0 0;\n",
              "      width: 32px;\n",
              "    }\n",
              "\n",
              "    .colab-df-convert:hover {\n",
              "      background-color: #E2EBFA;\n",
              "      box-shadow: 0px 1px 2px rgba(60, 64, 67, 0.3), 0px 1px 3px 1px rgba(60, 64, 67, 0.15);\n",
              "      fill: #174EA6;\n",
              "    }\n",
              "\n",
              "    [theme=dark] .colab-df-convert {\n",
              "      background-color: #3B4455;\n",
              "      fill: #D2E3FC;\n",
              "    }\n",
              "\n",
              "    [theme=dark] .colab-df-convert:hover {\n",
              "      background-color: #434B5C;\n",
              "      box-shadow: 0px 1px 3px 1px rgba(0, 0, 0, 0.15);\n",
              "      filter: drop-shadow(0px 1px 2px rgba(0, 0, 0, 0.3));\n",
              "      fill: #FFFFFF;\n",
              "    }\n",
              "  </style>\n",
              "\n",
              "      <script>\n",
              "        const buttonEl =\n",
              "          document.querySelector('#df-d0d08ac1-4638-4579-9382-b2c714eda0b3 button.colab-df-convert');\n",
              "        buttonEl.style.display =\n",
              "          google.colab.kernel.accessAllowed ? 'block' : 'none';\n",
              "\n",
              "        async function convertToInteractive(key) {\n",
              "          const element = document.querySelector('#df-d0d08ac1-4638-4579-9382-b2c714eda0b3');\n",
              "          const dataTable =\n",
              "            await google.colab.kernel.invokeFunction('convertToInteractive',\n",
              "                                                     [key], {});\n",
              "          if (!dataTable) return;\n",
              "\n",
              "          const docLinkHtml = 'Like what you see? Visit the ' +\n",
              "            '<a target=\"_blank\" href=https://colab.research.google.com/notebooks/data_table.ipynb>data table notebook</a>'\n",
              "            + ' to learn more about interactive tables.';\n",
              "          element.innerHTML = '';\n",
              "          dataTable['output_type'] = 'display_data';\n",
              "          await google.colab.output.renderOutput(dataTable, element);\n",
              "          const docLink = document.createElement('div');\n",
              "          docLink.innerHTML = docLinkHtml;\n",
              "          element.appendChild(docLink);\n",
              "        }\n",
              "      </script>\n",
              "    </div>\n",
              "  </div>\n",
              "  "
            ],
            "text/plain": [
              "                  tag                    pattern\n",
              "12          hackathon      hackathon competition\n",
              "300          linkedin            linkedin trends\n",
              "198        javascript                 javascript\n",
              "376          apple tv                   apple tv\n",
              "289           twitter                    twitter\n",
              "..                ...                        ...\n",
              "361           spotify               spotify jobs\n",
              "344       rich people                rich people\n",
              "340             tesla                      tesla\n",
              "69        sleep apnea      sleep apnea treatment\n",
              "161  microsoft office  microsoft office products\n",
              "\n",
              "[396 rows x 2 columns]"
            ]
          },
          "execution_count": 8,
          "metadata": {},
          "output_type": "execute_result"
        }
      ],
      "source": [
        "df = df.sample(frac = 1) \n",
        "df"
      ]
    },
    {
      "cell_type": "code",
      "execution_count": null,
      "metadata": {
        "colab": {
          "base_uri": "https://localhost:8080/"
        },
        "id": "QZkfMd3BTO3C",
        "outputId": "bbced59e-58bc-408e-d49b-98128f9314e3"
      },
      "outputs": [
        {
          "data": {
            "text/plain": [
              "array([32, 43, 39,  8, 84, 47, 30, 59, 27, 39, 75,  2, 68, 44, 17, 34, 71,\n",
              "       82, 16, 43, 38, 22, 32, 27, 90,  9, 17, 18, 15, 68, 89, 58,  3, 20,\n",
              "       92, 33, 65, 40, 10, 20, 46, 23, 70, 48, 21, 15,  0,  2, 53, 18, 53,\n",
              "       17, 40, 71, 40, 18, 81, 22, 30, 87, 33, 67, 65, 32, 42, 13, 67, 54,\n",
              "       45, 70, 80, 73, 68, 71, 46,  8, 83, 52, 13, 66, 19, 82, 57, 28, 79,\n",
              "       35,  5, 90, 25, 86, 10,  0,  9, 26, 46,  1, 37, 90, 16, 63,  4, 89,\n",
              "       77, 58, 63, 15, 91, 12, 66, 65, 51, 61, 35, 70, 50, 67, 41, 48, 92,\n",
              "       33,  3, 86, 66, 29, 63, 33, 20, 69, 29, 73, 38, 31, 21, 25, 36, 50,\n",
              "        8, 71, 91, 81, 64,  7, 56, 52,  7, 25, 77, 85, 45, 10, 52, 12, 83,\n",
              "       64, 59, 55, 23, 64, 11, 88, 87, 48, 28, 60, 51, 92, 48, 77, 86, 69,\n",
              "       83, 81, 22, 19, 65, 50, 18, 26, 82, 33, 13, 55, 92, 37, 84, 61,  4,\n",
              "       91, 27, 46, 72, 86,  4, 21,  6, 89,  7, 17, 14, 79, 23, 52, 87,  5,\n",
              "        3, 76, 44, 42, 62, 28, 42, 44, 27, 42, 19, 89, 53, 16, 53, 64, 76,\n",
              "       14, 55, 60, 69, 77, 78, 47, 83, 43,  6, 19, 29, 58, 30, 31, 79, 34,\n",
              "       23, 11, 36,  0, 75, 34, 82, 21,  5,  1,  4, 43, 57, 70, 40, 26, 36,\n",
              "       14, 41, 54, 45, 14, 77, 44, 38, 72,  9,  2, 56, 24, 12, 77, 73, 35,\n",
              "       31, 49, 78, 90,  6,  1,  7, 69, 78, 39, 36, 56,  6, 24, 59, 24, 51,\n",
              "       76, 54, 34, 75, 32,  1, 15, 26, 67, 39, 84, 80, 13, 63, 76, 11, 10,\n",
              "       62, 91, 57, 85, 29, 72,  3,  0, 59, 61, 51, 49, 56, 72, 49, 73, 58,\n",
              "       31, 77, 61, 77, 16, 74, 78, 74, 38, 12, 62,  8, 44, 75, 80, 88, 54,\n",
              "       18, 84, 11, 88, 60, 30, 76, 85, 17, 37, 47,  2,  9, 20, 88, 77, 45,\n",
              "       23, 22, 45, 28, 41, 61, 57, 49, 37, 66, 11, 60, 73, 57, 74, 10, 55,\n",
              "       80, 85, 87, 77, 47, 36, 41, 70, 62,  5, 40, 66, 81, 35, 25, 24, 15,\n",
              "       74, 68, 79, 72, 50])"
            ]
          },
          "execution_count": 9,
          "metadata": {},
          "output_type": "execute_result"
        }
      ],
      "source": [
        "# # One hot encode labels\n",
        "# from sklearn.preprocessing import OneHotEncoder\n",
        "# one_hot_encoder = OneHotEncoder(sparse=False)\n",
        "# tag_one_hot = one_hot_encoder.fit_transform(df[\"tag\"].to_numpy().reshape(-1, 1))\n",
        "# tag_one_hot\n",
        "\n",
        "# Extract labels (\"target\" columns) and encode them into integers \n",
        "from sklearn.preprocessing import LabelEncoder\n",
        "label_encoder = LabelEncoder()\n",
        "tag_encoded = label_encoder.fit_transform(df[\"tag\"].to_numpy())\n",
        "tag_encoded"
      ]
    },
    {
      "cell_type": "code",
      "execution_count": null,
      "metadata": {
        "id": "dp3SFFohWijL"
      },
      "outputs": [],
      "source": [
        "# 0 = corona virus\n",
        "# 1 = hackathon\n",
        "# 2 = minecraft"
      ]
    },
    {
      "cell_type": "code",
      "execution_count": null,
      "metadata": {
        "colab": {
          "base_uri": "https://localhost:8080/"
        },
        "id": "LGmHVyf8VEO_",
        "outputId": "b09edd5c-4908-4034-df10-30cefef8593c"
      },
      "outputs": [
        {
          "data": {
            "text/plain": [
              "(array(['hackathon competition', 'linkedin trends', 'javascript',\n",
              "        'apple tv', 'twitter', 'microsoft jobs', 'google cloud software',\n",
              "        'node projects', 'github jobs', 'javascript projects',\n",
              "        'stackoverflow answers', 'airbnb rooms', 'CEOs',\n",
              "        'liver cancer symptoms', 'coronavirus', 'html', 'slack',\n",
              "        'tsunami natural disaster', 'cat cute', 'linkedin jobs',\n",
              "        'java coding', 'earthquake disaster', 'hackathon league', 'github',\n",
              "        'world war 2 casualties', 'arduino website', 'covid19',\n",
              "        'cryptocurrency trends', 'cancer treatment',\n",
              "        'rich people net worth', 'world war 1 famous people',\n",
              "        'netflix jobs', 'amazon trends', 'django', 'youtube music music',\n",
              "        'heart cancer disease', 'react', 'kidney cancer symptoms',\n",
              "        'brain cancer', 'django library', 'lyft jobs',\n",
              "        'excessive daytime sleepiness symptoms',\n",
              "        'shift work disorder treatment', 'microsoft access', 'dog cute',\n",
              "        'cancer causes', 'adobe creative cloud products', 'airbnb',\n",
              "        'microsoft powerpoint', 'crypto', 'microsoft powerpoint software',\n",
              "        'coronavirus pandemy', 'kidney cancer treatment', 'slack jobs',\n",
              "        'kidney cancer causes', 'crypto currency', 'trello jobs',\n",
              "        'recent earthquake', 'google cloud website', 'volcano eruption',\n",
              "        'heart cancer causes', 'revolutions', 'react webdev', 'hackathon',\n",
              "        'laravel', 'c# coding', 'revolution conflicts',\n",
              "        'microsoft word software', 'lung cancer disease',\n",
              "        'shift work disorder disease', 'vacation destinations',\n",
              "        'sleeping late', 'billionaires', 'slack trends', 'lyft price',\n",
              "        'apple tv shows', 'twilio software', 'microsoft outlook products',\n",
              "        'c#', 'restless legs syndrome treatment', 'css',\n",
              "        'tsunami disaster', 'narcolepsy disease', 'gmail projects',\n",
              "        'tesla trends', 'hulu shows', 'angular library', 'world war 2',\n",
              "        'facebook company', 'valorant', 'brain cancer symptoms',\n",
              "        'adobe creative cloud website', 'arduino software', 'flask webdev',\n",
              "        'lyft', 'adobe xd software', 'instagram jobs',\n",
              "        'world war 2 conflict', 'cat animal', 'python coding',\n",
              "        'amazon prime shows', 'world war 1 casualties', 'stomach cancer',\n",
              "        'netflix shows', 'python projects', 'cancer', 'youtube',\n",
              "        'c coding', 'restless legs syndrome disease', 'react library',\n",
              "        'microsoft onenote products', 'parasomnia', 'hulu movies',\n",
              "        'shift work disorder causes', 'microsoft office website',\n",
              "        'revolution casualties', 'kotlin projects',\n",
              "        'microsoft access products', 'youtube music jobs',\n",
              "        'heart cancer symptoms', 'amazon jobs', 'valorant game',\n",
              "        'restless legs syndrome', 'google jobs', 'python',\n",
              "        'heart cancer treatment', 'django projects', 'ruby projects',\n",
              "        'google', 'sleeping good', 'java projects', 'google play music',\n",
              "        'dog animal', 'facebook jobs', 'insomnia symptoms',\n",
              "        'microsoft office software', 'apple tv price', 'slack projects',\n",
              "        'youtube company', 'trello trends', 'rat breed',\n",
              "        'apple music jobs', 'mouse breed', 'microsoft outlook software',\n",
              "        'apple music music', 'facebook trends', 'stomach cancer symptoms',\n",
              "        'uber jobs', 'lung cancer causes', 'brain cancer causes',\n",
              "        'microsoft outlook', 'c language', 'twilio products', 'rat cute',\n",
              "        'node library', 'mcpe', 'excessive daytime sleepiness treatment',\n",
              "        'rat animal', 'breast cancer', 'vue library', 'volcano',\n",
              "        'microsoft access software', 'gmail', 'objective c coding',\n",
              "        'microsoft onenote', 'youtube music', 'microsoft access website',\n",
              "        'stomach cancer treatment', 'valorant vanguard', 'ruby language',\n",
              "        'twilio', 'trello projects', 'earthquake', 'css projects',\n",
              "        'react projects', 'microsoft office', 'cryptocurrency', 'flask',\n",
              "        'recent tsunami', 'heart cancer', 'c# projects', 'minecraft game',\n",
              "        'youtube music podcasts', 'instagram trends', 'twitter jobs',\n",
              "        'parasomnia disease', 'amazon prime movies', 'youtube jobs',\n",
              "        'github website', 'lyft cars', 'sleep apnea symptoms',\n",
              "        'riot valorant', 'amazon prime', 'dog breed', 'apple jobs',\n",
              "        'world war 1 conflict', 'apple music', 'covid19', 'c++ coding',\n",
              "        'tesla jobs', 'excessive daytime sleepiness',\n",
              "        'microsoft outlook website', 'volcano disaster',\n",
              "        'angular projects', 'amazon', 'stock market',\n",
              "        'liver cancer treatment', 'laravel library', 'php projects',\n",
              "        'gmail jobs', 'laravel webdev', 'liver cancer disease',\n",
              "        'github software', 'laravel projects', 'css coding', 'world war 1',\n",
              "        'microsoft powerpoint website', 'cat breed',\n",
              "        'microsoft powerpoint products', 'rat', 'stocks', 'c++ projects',\n",
              "        'minecraft', 'objective c language', 'ruby',\n",
              "        'stomach cancer treatment', 'swift projects', 'microsoft trends',\n",
              "        'twilio website', 'linkedin company', 'apple company',\n",
              "        'css language', 'google company', 'netflix movies',\n",
              "        'google cloud products', 'google play jobs', 'tesla cars',\n",
              "        'html projects', 'excessive daytime sleepiness disease',\n",
              "        'breast cancer treatment', 'insomnia',\n",
              "        'adobe creative cloud software', 'stackoverflow trends',\n",
              "        'html coding', 'tsunami', 'dog', 'angular', 'adobe xd',\n",
              "        'amazon prime price', 'linkedin', 'narcolepsy symptoms',\n",
              "        'shift work disorder', 'kidney cancer disease', 'flask projects',\n",
              "        'insomnia treatment', 'c++', 'kotlin coding', 'microsoft word',\n",
              "        'lung cancer treatment', 'c++ language', 'stomach cancer disease',\n",
              "        'liver cancer', 'java language', 'sleep apnea causes',\n",
              "        'arduino projects', 'airbnb price', 'mouse cute', 'express',\n",
              "        'c projects', 'stomach cancer', 'sleeping early', 'hulu',\n",
              "        'google play', 'microsoft excel', 'swift language',\n",
              "        'world war 2 famous people', 'apple trends', 'adobe xd projects',\n",
              "        'apple music podcasts', 'ruby coding', 'swift coding',\n",
              "        'javascript language', 'insomnia causes', 'mouse animal', 'apple',\n",
              "        'express library', 'node webdev', 'express projects',\n",
              "        'microsoft onenote website', 'investing',\n",
              "        'microsoft word products', 'html language', 'stackoverflow ',\n",
              "        'hackathon devpost', 'adobe xd framework', 'cancer symptoms',\n",
              "        'flask library', 'revolution wars', 'javascript coding',\n",
              "        'twitter company', 'vacations', 'c# language', 'python language',\n",
              "        'stock prices', 'breast cancer symptoms', 'brain cancer disease',\n",
              "        'php language', 'youtube trends', 'narcolepsy', 'uber',\n",
              "        'google trends', 'sleep apnea disease', 'amazon company',\n",
              "        'adobe creative cloud', 'node', 'parasomnia treatment',\n",
              "        'microsoft onenote software', 'microsoft excel products', 'mouse',\n",
              "        'sleep apnea', 'microsoft excel software', 'sleeping bad',\n",
              "        'netflix', 'google play podcasts', 'stomach cancer causes',\n",
              "        'parasomnia causes', 'stomach cancer causes', 'cat',\n",
              "        'spotify podcasts', 'swift', 'spotify', 'java', 'c', 'php coding',\n",
              "        'apple tv movies', 'liver cancer causes', 'stackoverflow question',\n",
              "        'travel', 'vue webdev', 'microsoft word website',\n",
              "        'cryptocurrency predictions', 'twitter trends',\n",
              "        'breast cancer disease', 'vue', 'objective c projects',\n",
              "        'google cloud', 'stock market trends', 'uber price',\n",
              "        'covid19 pandemy', 'instagram', 'microsoft company', 'airbnb jobs',\n",
              "        'arduino', 'django webdev', 'vue projects',\n",
              "        'stomach cancer symptoms', 'lung cancer',\n",
              "        'excessive daytime sleepiness causes',\n",
              "        'earthquake natural disaster', 'lung cancer symptoms',\n",
              "        'gmail trends', 'kotlin', 'parasomnia symptoms',\n",
              "        'narcolepsy treatment', 'microsoft excel website',\n",
              "        'instagram company', 'restless legs syndrome causes',\n",
              "        'breast cancer causes', 'objective c', 'sleeping',\n",
              "        'narcolepsy causes', 'spotify music', 'brain cancer treatment',\n",
              "        'mojang minecraft', 'vacation countries', 'uber cars',\n",
              "        'volcano natural disaster', 'stomach cancer disease', 'microsoft',\n",
              "        'insomnia disease', 'kotlin language',\n",
              "        'shift work disorder symptoms', 'php', 'angular webdev',\n",
              "        'kidney cancer', 'restless legs syndrome symptoms', 'trello',\n",
              "        'hulu price', 'facebook', 'express webdev', 'cancer disease',\n",
              "        'spotify jobs', 'rich people', 'tesla', 'sleep apnea treatment',\n",
              "        'microsoft office products'], dtype=object),\n",
              " array([32, 43, 39,  8, 84, 47, 30, 59, 27, 39, 75,  2, 68, 44, 17, 34, 71,\n",
              "        82, 16, 43, 38, 22, 32, 27, 90,  9, 17, 18, 15, 68, 89, 58,  3, 20,\n",
              "        92, 33, 65, 40, 10, 20, 46, 23, 70, 48, 21, 15,  0,  2, 53, 18, 53,\n",
              "        17, 40, 71, 40, 18, 81, 22, 30, 87, 33, 67, 65, 32, 42, 13, 67, 54,\n",
              "        45, 70, 80, 73, 68, 71, 46,  8, 83, 52, 13, 66, 19, 82, 57, 28, 79,\n",
              "        35,  5, 90, 25, 86, 10,  0,  9, 26, 46,  1, 37, 90, 16, 63,  4, 89,\n",
              "        77, 58, 63, 15, 91, 12, 66, 65, 51, 61, 35, 70, 50, 67, 41, 48, 92,\n",
              "        33,  3, 86, 66, 29, 63, 33, 20, 69, 29, 73, 38, 31, 21, 25, 36, 50,\n",
              "         8, 71, 91, 81, 64,  7, 56, 52,  7, 25, 77, 85, 45, 10, 52, 12, 83,\n",
              "        64, 59, 55, 23, 64, 11, 88, 87, 48, 28, 60, 51, 92, 48, 77, 86, 69,\n",
              "        83, 81, 22, 19, 65, 50, 18, 26, 82, 33, 13, 55, 92, 37, 84, 61,  4,\n",
              "        91, 27, 46, 72, 86,  4, 21,  6, 89,  7, 17, 14, 79, 23, 52, 87,  5,\n",
              "         3, 76, 44, 42, 62, 28, 42, 44, 27, 42, 19, 89, 53, 16, 53, 64, 76,\n",
              "        14, 55, 60, 69, 77, 78, 47, 83, 43,  6, 19, 29, 58, 30, 31, 79, 34,\n",
              "        23, 11, 36,  0, 75, 34, 82, 21,  5,  1,  4, 43, 57, 70, 40, 26, 36,\n",
              "        14, 41, 54, 45, 14, 77, 44, 38, 72,  9,  2, 56, 24, 12, 77, 73, 35,\n",
              "        31, 49, 78, 90,  6,  1,  7, 69, 78, 39, 36, 56,  6, 24, 59, 24, 51,\n",
              "        76, 54, 34, 75, 32,  1, 15, 26, 67, 39, 84, 80, 13, 63, 76, 11, 10,\n",
              "        62, 91, 57, 85, 29, 72,  3,  0, 59, 61, 51, 49, 56, 72, 49, 73, 58,\n",
              "        31, 77, 61, 77, 16, 74, 78, 74, 38, 12, 62,  8, 44, 75, 80, 88, 54,\n",
              "        18, 84, 11, 88, 60, 30, 76, 85, 17, 37, 47,  2,  9, 20, 88, 77, 45,\n",
              "        23, 22, 45, 28, 41, 61, 57, 49, 37, 66, 11, 60, 73, 57, 74, 10, 55,\n",
              "        80, 85, 87, 77, 47, 36, 41, 70, 62,  5, 40, 66, 81, 35, 25, 24, 15,\n",
              "        74, 68, 79, 72, 50]))"
            ]
          },
          "execution_count": 19,
          "metadata": {},
          "output_type": "execute_result"
        }
      ],
      "source": [
        "train_sentences = df.pattern.to_numpy()\n",
        "train_tag = tag_encoded\n",
        "train_sentences,train_tag"
      ]
    },
    {
      "cell_type": "code",
      "execution_count": null,
      "metadata": {
        "id": "x3ZE4IdFTz6f"
      },
      "outputs": [],
      "source": [
        "from sklearn.feature_extraction.text import TfidfVectorizer\n",
        "from sklearn.naive_bayes import MultinomialNB\n",
        "from sklearn.pipeline import Pipeline\n",
        "\n",
        "# Create a pipeline\n",
        "model_0 = Pipeline([\n",
        "  (\"tf-idf\", TfidfVectorizer()),\n",
        "  (\"clf\", MultinomialNB())\n",
        "])\n",
        "\n",
        "# Fit the pipeline to the training data\n",
        "model_0.fit(X=train_sentences, \n",
        "            y=train_tag);"
      ]
    },
    {
      "cell_type": "code",
      "execution_count": null,
      "metadata": {
        "colab": {
          "base_uri": "https://localhost:8080/"
        },
        "id": "7xlbuM_pWLbO",
        "outputId": "98c9e9fc-d57d-4260-8728-145c44e47170"
      },
      "outputs": [
        {
          "data": {
            "text/plain": [
              "0.9318181818181818"
            ]
          },
          "execution_count": 13,
          "metadata": {},
          "output_type": "execute_result"
        }
      ],
      "source": [
        "model_0.score(X=train_sentences,\n",
        "              y=train_tag)"
      ]
    },
    {
      "cell_type": "code",
      "execution_count": null,
      "metadata": {
        "colab": {
          "base_uri": "https://localhost:8080/"
        },
        "id": "xTEx4VR0gPCL",
        "outputId": "b57f67fc-701e-4e88-f78d-d017bfb3953b"
      },
      "outputs": [
        {
          "data": {
            "text/plain": [
              "array(['adobe creative cloud', 'adobe xd', 'airbnb', 'amazon',\n",
              "       'amazon prime', 'angular', 'apple', 'apple music', 'apple tv',\n",
              "       'arduino', 'brain cancer', 'breast cancer', 'c', 'c#', 'c++',\n",
              "       'cancer', 'cat', 'covid19_summary', 'cryptocurrency', 'css',\n",
              "       'django', 'dog', 'earthquake', 'excessive daytime sleepiness',\n",
              "       'express', 'facebook', 'flask', 'github', 'gmail', 'google',\n",
              "       'google cloud', 'google play', 'hackathon', 'heart cancer', 'html',\n",
              "       'hulu', 'insomnia', 'instagram', 'java', 'javascript',\n",
              "       'kidney cancer', 'kotlin', 'laravel', 'linkedin', 'liver cancer',\n",
              "       'lung cancer', 'lyft', 'microsoft', 'microsoft access',\n",
              "       'microsoft excel', 'microsoft office', 'microsoft onenote',\n",
              "       'microsoft outlook', 'microsoft powerpoint', 'microsoft word',\n",
              "       'minecraft', 'mouse', 'narcolepsy', 'netflix', 'node',\n",
              "       'objective c', 'parasomnia', 'php', 'python', 'rat', 'react',\n",
              "       'restless legs syndrome', 'revolutions', 'rich people', 'ruby',\n",
              "       'shift work disorder', 'slack', 'sleep apnea', 'sleeping',\n",
              "       'spotify', 'stackoverflow', 'stock market', 'stomach cancer',\n",
              "       'swift', 'tesla', 'travel', 'trello', 'tsunami', 'twilio',\n",
              "       'twitter', 'uber', 'valorant', 'volcano', 'vue', 'world war 1',\n",
              "       'world war 2', 'youtube', 'youtube music'], dtype=object)"
            ]
          },
          "execution_count": 14,
          "metadata": {},
          "output_type": "execute_result"
        }
      ],
      "source": [
        "class_names = label_encoder.classes_\n",
        "class_names"
      ]
    },
    {
      "cell_type": "code",
      "execution_count": null,
      "metadata": {
        "colab": {
          "base_uri": "https://localhost:8080/"
        },
        "id": "Y3I1CzUoWUAc",
        "outputId": "24d17dd3-3e99-47a7-b8aa-b6a24aa54405"
      },
      "outputs": [
        {
          "data": {
            "text/plain": [
              "(array([0.24547778]), array(['stomach cancer'], dtype=object))"
            ]
          },
          "execution_count": 26,
          "metadata": {},
          "output_type": "execute_result"
        }
      ],
      "source": [
        "sentence = \"stomach cancer\"\n",
        "predict =  model_0.predict([sentence])\n",
        "probability = model_0.predict_proba([sentence])\n",
        "\n",
        "probability[0][predict], class_names[predict]\n",
        "# 0 = corona virus\n",
        "# 1 = hackathon\n",
        "# 2 = minecraft"
      ]
    },
    {
      "cell_type": "code",
      "execution_count": null,
      "metadata": {
        "id": "LG3TU04KZwmo"
      },
      "outputs": [],
      "source": [
        "# export\n",
        "import pickle\n",
        "with open('model_0.pkl', 'wb') as model_file:\n",
        "  pickle.dump(model_0, model_file)"
      ]
    },
    {
      "cell_type": "code",
      "execution_count": null,
      "metadata": {
        "colab": {
          "base_uri": "https://localhost:8080/"
        },
        "id": "TMZR8yR-RvKn",
        "outputId": "fae0ee59-8fe0-4ebd-c557-e59d2408a17b"
      },
      "outputs": [
        {
          "name": "stdout",
          "output_type": "stream",
          "text": [
            "0.9318181818181818\n"
          ]
        }
      ],
      "source": [
        "# load\n",
        "loaded_model = pickle.load(open(\"model_0.pkl\", 'rb'))\n",
        "result = loaded_model.score(train_sentences, train_tag)\n",
        "print(result)"
      ]
    },
    {
      "cell_type": "code",
      "execution_count": null,
      "metadata": {
        "colab": {
          "base_uri": "https://localhost:8080/"
        },
        "id": "6QoAj3OoDE2m",
        "outputId": "24a8d990-343c-4200-a19d-78d1851f8de8"
      },
      "outputs": [
        {
          "data": {
            "text/plain": [
              "array([77])"
            ]
          },
          "execution_count": 23,
          "metadata": {},
          "output_type": "execute_result"
        }
      ],
      "source": [
        "loaded_model.predict(['ahdhaa'])"
      ]
    }
  ],
  "metadata": {
    "colab": {
      "collapsed_sections": [],
      "include_colab_link": true,
      "name": "general_search_intents.ipynb",
      "provenance": []
    },
    "kernelspec": {
      "display_name": "Python 3",
      "name": "python3"
    },
    "language_info": {
      "name": "python"
    }
  },
  "nbformat": 4,
  "nbformat_minor": 0
}
